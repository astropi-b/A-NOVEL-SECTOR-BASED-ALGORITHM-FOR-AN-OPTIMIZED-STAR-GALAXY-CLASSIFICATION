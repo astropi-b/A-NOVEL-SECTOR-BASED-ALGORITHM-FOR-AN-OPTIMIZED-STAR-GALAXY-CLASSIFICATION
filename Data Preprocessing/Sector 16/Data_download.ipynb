{
 "cells": [
  {
   "cell_type": "code",
   "execution_count": null,
   "id": "8d5fbc6c-ac15-4d4a-ac41-062e52f6ead7",
   "metadata": {},
   "outputs": [],
   "source": [
    "import os\n",
    "import pandas as pd\n",
    "import requests\n",
    "\n",
    "# Read the CSV\n",
    "csv_path = 'Path to csv file having META Data'\n",
    "df = pd.read_csv(csv_path, skiprows=1)  # Skips the first row\n",
    "\n",
    "# Initialize the base URL\n",
    "base_url = \"https://dr18.sdss.org/sas/dr18/prior-surveys/sdss4-dr17-eboss/photoObj/frames/{rerun}/{run}/{camcol}/frame-{band}-{run_padded}-{camcol}-{field_padded}.fits.bz2\"\n",
    "\n",
    "# Initialize a set to keep track of unique URLs\n",
    "unique_urls = set()\n",
    "\n",
    "# Populate the set with unique URLs\n",
    "for _, row in df.iterrows():\n",
    "    run_padded = f\"{row['run']:06d}\"\n",
    "    field_padded = f\"{row['field']:04d}\"\n",
    "    \n",
    "    for band in ['u','g','r','i','z']:\n",
    "        url = base_url.format(\n",
    "            rerun=row['rerun'],\n",
    "            run=row['run'],\n",
    "            camcol=row['camcol'],\n",
    "            band=band,\n",
    "            run_padded=run_padded,\n",
    "            field_padded=field_padded\n",
    "        )\n",
    "        unique_urls.add(url)\n",
    "\n",
    "# Display the count of unique URLs and the count of FITS files to download\n",
    "print(f\"There are {len(df)} objid in the CSV.\")\n",
    "print(f\"There are {len(unique_urls)} unique FITS files to download in total.\")\n",
    "\n",
    "# Ensure the folder exists\n",
    "if not os.path.exists('Download_Folder'):\n",
    "    os.makedirs('Download_Folder')\n",
    "\n",
    "# Download the FITS files\n",
    "for url in unique_urls:\n",
    "    # Extract the filename from the URL\n",
    "    file_name = url.split('/')[-1]\n",
    "    \n",
    "    # Download the FITS file\n",
    "    response = requests.get(url)\n",
    "    if response.status_code == 200:\n",
    "        with open(os.path.join('Download_Folder', file_name), 'wb') as file:\n",
    "            file.write(response.content)\n",
    "        print(f\"Downloaded: {file_name}\")\n",
    "    else:\n",
    "        print(f\"Failed to download: {file_name}. Status code: {response.status_code}\")\n"
   ]
  }
 ],
 "metadata": {
  "kernelspec": {
   "display_name": "Python 3 (ipykernel)",
   "language": "python",
   "name": "python3"
  },
  "language_info": {
   "codemirror_mode": {
    "name": "ipython",
    "version": 3
   },
   "file_extension": ".py",
   "mimetype": "text/x-python",
   "name": "python",
   "nbconvert_exporter": "python",
   "pygments_lexer": "ipython3",
   "version": "3.10.8"
  }
 },
 "nbformat": 4,
 "nbformat_minor": 5
}
